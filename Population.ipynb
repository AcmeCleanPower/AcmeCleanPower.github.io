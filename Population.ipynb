{
 "cells": [
  {
   "cell_type": "code",
   "execution_count": 1,
   "metadata": {},
   "outputs": [],
   "source": [
    "import analysis\n",
    "import tiff_tools\n",
    "import numpy as np\n",
    "import os"
   ]
  },
  {
   "cell_type": "code",
   "execution_count": 2,
   "metadata": {},
   "outputs": [],
   "source": [
    "import vector_tools"
   ]
  },
  {
   "cell_type": "code",
   "execution_count": null,
   "metadata": {
    "scrolled": true
   },
   "outputs": [],
   "source": [
    "fin = '../contours/madagascar_radiance_polygon_buffer.shp'\n",
    "fout = '../contours/madagascar_radiance_polygon_buffer_dissolve.shp'\n",
    "\n",
    "shape = vector_tools.dissolve_shapefile(fin)\n",
    "vector_tools.write_dissolved_shapefile(fout, shape)"
   ]
  },
  {
   "cell_type": "code",
   "execution_count": null,
   "metadata": {},
   "outputs": [],
   "source": [
    "folder = '../madagascar/hrsl_tiles/'\n",
    "outfolder = '../madagascar/heatmap_tiles/'\n",
    "files = os.listdir(folder)"
   ]
  },
  {
   "cell_type": "code",
   "execution_count": null,
   "metadata": {},
   "outputs": [],
   "source": [
    "files.sort()\n",
    "for f in files:\n",
    "    addr=folder+f\n",
    "    if os.path.isfile(outfolder+'%s_pop_log.tif'%f[:-4]):\n",
    "        continue\n",
    "    try:\n",
    "        data = tiff_tools.read_array_from_tiff(addr)\n",
    "    except:\n",
    "        continue\n",
    "    print f\n",
    "    data_km, data_points = analysis.generate_heatmaps_from_population(data)\n",
    "    tiff_tools.save_data_derived_from_tiff(addr, np.log2(data_km),outfolder+'%s_pop_log.tif'%f[:-4], \n",
    "                                       dtype=np.uint8, cmap=tiff_tools.plt.cm.jet)\n",
    "    tiff_tools.save_data_derived_from_tiff(addr, (data_km),outfolder+'%s_pop.tif'%f[:-4], \n",
    "                                       dtype=np.uint16, cmap=tiff_tools.plt.cm.jet,alpha=False)\n",
    "    tiff_tools.save_data_derived_from_tiff(addr, np.log2(data_points),outfolder+'%s_points_log.tif'%f[:-4], \n",
    "                                       dtype=np.uint8, cmap=tiff_tools.plt.cm.jet)\n",
    "    tiff_tools.save_data_derived_from_tiff(addr, (data_points),outfolder+'%s_points.tif'%f[:-4], \n",
    "                                       dtype=np.uint16, cmap=tiff_tools.plt.cm.jet,alpha=False)"
   ]
  },
  {
   "cell_type": "code",
   "execution_count": 3,
   "metadata": {},
   "outputs": [],
   "source": [
    "base_dir = '/home/elliot/Fortium/GIS/hrsl_ken_v1/'\n"
   ]
  },
  {
   "cell_type": "code",
   "execution_count": null,
   "metadata": {},
   "outputs": [],
   "source": []
  },
  {
   "cell_type": "code",
   "execution_count": 4,
   "metadata": {},
   "outputs": [],
   "source": [
    "data = tiff_tools.read_array_from_tiff(base_dir + 'lake_turkana.tif')"
   ]
  },
  {
   "cell_type": "code",
   "execution_count": 5,
   "metadata": {},
   "outputs": [],
   "source": [
    "data = np.choose(data==1,(0,1))"
   ]
  },
  {
   "cell_type": "code",
   "execution_count": 6,
   "metadata": {},
   "outputs": [
    {
     "name": "stdout",
     "output_type": "stream",
     "text": [
      "5758.51521369 0.0\n"
     ]
    }
   ],
   "source": [
    "heatmap = analysis.generate_heatmaps_from_population(data)"
   ]
  },
  {
   "cell_type": "code",
   "execution_count": 10,
   "metadata": {},
   "outputs": [
    {
     "data": {
      "text/plain": [
       "(3987, 876)"
      ]
     },
     "execution_count": 10,
     "metadata": {},
     "output_type": "execute_result"
    }
   ],
   "source": [
    "np.unravel_index(np.argmax(heatmap),heatmap.shape)"
   ]
  },
  {
   "cell_type": "code",
   "execution_count": 12,
   "metadata": {},
   "outputs": [
    {
     "data": {
      "text/plain": [
       "819"
      ]
     },
     "execution_count": 12,
     "metadata": {},
     "output_type": "execute_result"
    }
   ],
   "source": [
    "data[3987-33:3987+33,876-33:876+33].sum()"
   ]
  },
  {
   "cell_type": "code",
   "execution_count": 13,
   "metadata": {},
   "outputs": [],
   "source": [
    "import numpy as np\n",
    "from scipy import signal\n",
    "from skimage import morphology\n"
   ]
  },
  {
   "cell_type": "code",
   "execution_count": 15,
   "metadata": {},
   "outputs": [],
   "source": [
    "kernel_area = 1000*1000\n",
    "resolution = 30"
   ]
  },
  {
   "cell_type": "code",
   "execution_count": 17,
   "metadata": {},
   "outputs": [],
   "source": [
    "kernel_radius = np.sqrt(kernel_area) / np.pi\n",
    "kernel_radius /= resolution\n",
    "kernel = morphology.disk(kernel_radius)"
   ]
  },
  {
   "cell_type": "code",
   "execution_count": 19,
   "metadata": {},
   "outputs": [
    {
     "data": {
      "text/plain": [
       "351"
      ]
     },
     "execution_count": 19,
     "metadata": {},
     "output_type": "execute_result"
    }
   ],
   "source": [
    "kernel.sum()"
   ]
  },
  {
   "cell_type": "code",
   "execution_count": null,
   "metadata": {},
   "outputs": [],
   "source": []
  }
 ],
 "metadata": {
  "kernelspec": {
   "display_name": "Python 2",
   "language": "python",
   "name": "python2"
  },
  "language_info": {
   "codemirror_mode": {
    "name": "ipython",
    "version": 2
   },
   "file_extension": ".py",
   "mimetype": "text/x-python",
   "name": "python",
   "nbconvert_exporter": "python",
   "pygments_lexer": "ipython2",
   "version": "2.7.12"
  }
 },
 "nbformat": 4,
 "nbformat_minor": 1
}
